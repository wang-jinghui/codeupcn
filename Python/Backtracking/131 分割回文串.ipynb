{
 "cells": [
  {
   "cell_type": "markdown",
   "metadata": {},
   "source": [
    "### 分割回文串\n",
    "\n",
    "给你一个字符串 s，请你将 s 分割成一些子串，使每个子串都是 回文串 。返回 s 所有可能的分割方案。\n",
    "\n",
    "示例 1：\n",
    "- 输入：s = \"aab\"\n",
    "- 输出：[[\"a\",\"a\",\"b\"],[\"aa\",\"b\"]]\n",
    "\n",
    "示例 2：\n",
    "- 输入：s = \"a\"\n",
    "- 输出：[[\"a\"]]\n",
    " \n",
    "提示：\n",
    "- 1 <= s.length <= 16\n",
    "- s 仅由小写英文字母组成"
   ]
  },
  {
   "cell_type": "markdown",
   "metadata": {},
   "source": [
    "**解题思路 1**：\n",
    "\n",
    "- **理解题目**：给定一个字符串 s，要求返回 s 的所有可能的分割方案，使得每一个子串都是回文串。\n",
    "\n",
    "- **选择算法**：此问题适合使用回溯法（Backtracking）来解决。回溯法是一种通过构建所有可能的解决方案并逐个检查的方法。\n",
    "\n",
    "- **实现步骤**：\n",
    "    - 初始化结果列表 `res` 用于存储所有合法的分割方案。\n",
    "    - 定义辅助函数 `is_palindrome(sub)` 判断子串是否为回文串。\n",
    "    - 定义递归函数 `backtrack(start, path)`：\n",
    "        - 如果起始位置等于字符串长度，则将当前路径加入结果列表。\n",
    "        - 否则，遍历从当前位置到字符串末尾的所有子串：\n",
    "            - 如果子串是回文串，则递归调用自身，继续处理剩余部分。\n",
    "            - 回溯，撤销选择，尝试其他可能性。\n",
    "- **复杂度分析**:\n",
    "    - 时间复杂度：最坏情况下，每个字符都有两种选择（分割或不分割），因此时间复杂度为 O(2^n * n)，其中 n 是字符串的长度。\n",
    "    - 空间复杂度：递归调用栈的深度为 n，结果列表的空间复杂度为 O(n * 2^n)。"
   ]
  },
  {
   "cell_type": "code",
   "execution_count": 1,
   "metadata": {},
   "outputs": [
    {
     "name": "stdout",
     "output_type": "stream",
     "text": [
      "[['a', 'a', 'b'], ['aa', 'b']]\n",
      "[['a']]\n"
     ]
    }
   ],
   "source": [
    "def partition(s: str):\n",
    "    def is_palindrome(sub: str) -> bool:\n",
    "        return sub == sub[::-1]\n",
    "    \n",
    "    def backtrack(start: int, path: list):\n",
    "        if start == len(s):\n",
    "            res.append(path[:])\n",
    "            return\n",
    "        \n",
    "        for end in range(start + 1, len(s) + 1):\n",
    "            sub = s[start:end]\n",
    "            if is_palindrome(sub):\n",
    "                path.append(sub)\n",
    "                backtrack(end, path)\n",
    "                path.pop()  # 回溯\n",
    "    \n",
    "    res = []\n",
    "    backtrack(0, [])\n",
    "    return res\n",
    "\n",
    "# 示例测试\n",
    "print(partition(\"aab\"))  # 输出: [[\"a\", \"a\", \"b\"], [\"aa\", \"b\"]]\n",
    "print(partition(\"a\"))    # 输出: [[\"a\"]]"
   ]
  },
  {
   "cell_type": "markdown",
   "metadata": {},
   "source": [
    "**解题思路 2**：\n",
    "\n",
    "使用动态规划（Dynamic Programming）来解决“分割回文串”问题可以有效地减少重复计算，提高效率。动态规划的核心思想是将问题分解为子问题，并存储子问题的解以避免重复计算。以下是详细的解题方案：\n",
    "\n",
    "1. **理解题目**：\n",
    "   - 输入：一个字符串 `s`。\n",
    "   - 输出：所有可能的分割方案，使得每个子串都是回文串。\n",
    "\n",
    "2. **选择算法**：\n",
    "   - 使用动态规划预先计算出所有子串是否为回文串。\n",
    "   - 使用回溯法生成所有可能的分割方案，并利用动态规划的结果来判断子串是否为回文串。\n",
    "\n",
    "3. **实现步骤**：\n",
    "   - **动态规划部分**：\n",
    "     - 创建一个二维布尔数组 `dp`，其中 `dp[i][j]` 表示子串 `s[i:j+1]` 是否为回文串。\n",
    "     - 初始化 `dp` 数组：单个字符的子串都是回文串。\n",
    "     - 填充 `dp` 数组：对于每个子串 `s[i:j+1]`，如果 `s[i] == s[j]` 且 `dp[i+1][j-1]` 为真，则 `dp[i][j]` 为真。\n",
    "   - **回溯部分**：\n",
    "     - 初始化结果列表 `res` 用于存储所有合法的分割方案。\n",
    "     - 定义递归函数 `backtrack(start, path)`：\n",
    "       - 如果起始位置等于字符串长度，则将当前路径加入结果列表。\n",
    "       - 否则，遍历从当前位置到字符串末尾的所有子串：\n",
    "         - 如果子串是回文串（利用 `dp` 数组判断），则递归调用自身，继续处理剩余部分。\n",
    "         - 回溯，撤销选择，尝试其他可能性。\n"
   ]
  },
  {
   "cell_type": "markdown",
   "metadata": {},
   "source": [
    "\n",
    "**代码解释**\n",
    "\n",
    "- **动态规划部分**：\n",
    "  - `dp[i][j]` 表示子串 `s[i:j+1]` 是否为回文串。\n",
    "  - 初始化单个字符的子串为回文串。\n",
    "  - 填充 `dp` 数组：对于每个子串 `s[i:j+1]`，如果 `s[i] == s[j]` 且 `dp[i+1][j-1]` 为真，则 `dp[i][j]` 为真。\n",
    "  \n",
    "- **回溯部分**：\n",
    "  - `backtrack(start, path)`：递归函数，用于生成所有可能的分割方案。\n",
    "    - **start**：当前处理的起始位置。\n",
    "    - **path**：当前的分割路径。\n",
    "    - 如果 `start` 等于字符串长度，说明已经处理完字符串，将当前路径加入结果列表。\n",
    "    - 遍历从 `start` 到字符串末尾的所有子串，如果子串是回文串（利用 `dp` 数组判断），则递归调用 `backtrack` 处理剩余部分，并在递归返回后撤销选择（回溯）。\n",
    "  - **res**：存储所有合法的分割方案。\n",
    "\n",
    "### 复杂度分析\n",
    "\n",
    "- **时间复杂度**：\n",
    "  - 动态规划部分的时间复杂度为 O(n^2)，因为我们需要填充一个 n x n 的 `dp` 数组。\n",
    "  - 回溯部分的时间复杂度为 O(2^n * n)，因为在最坏情况下，每个字符都有两种选择（分割或不分割），并且需要检查每个子串是否为回文串。\n",
    "  - 总的时间复杂度为 O(n^2 + 2^n * n)，简化为 O(2^n * n)。\n",
    "\n",
    "- **空间复杂度**：\n",
    "  - 动态规划部分的空间复杂度为 O(n^2)，因为我们需要存储一个 n x n 的 `dp` 数组。\n",
    "  - 回溯部分的空间复杂度为 O(n * 2^n)，因为递归调用栈的深度为 n，结果列表的空间复杂度为 O(n * 2^n)。\n",
    "  - 总的空间复杂度为 O(n^2 + n * 2^n)，简化为 O(n * 2^n)。\n",
    "\n",
    "通过动态规划预先计算出所有子串是否为回文串，可以显著减少回溯过程中重复计算的开销，提高算法的效率。"
   ]
  },
  {
   "cell_type": "code",
   "execution_count": null,
   "metadata": {},
   "outputs": [],
   "source": [
    "def partition(s: str):\n",
    "    n = len(s)\n",
    "    \n",
    "    # 动态规划部分\n",
    "    dp = [[False] * n for _ in range(n)]\n",
    "    for i in range(n):\n",
    "        dp[i][i] = True  # 单个字符是回文串\n",
    "    for length in range(2, n + 1):  # 子串长度从2到n\n",
    "        for i in range(n - length + 1):\n",
    "            j = i + length - 1\n",
    "            if s[i] == s[j]:\n",
    "                if length == 2:\n",
    "                    dp[i][j] = True\n",
    "                else:\n",
    "                    dp[i][j] = dp[i + 1][j - 1]\n",
    "    \n",
    "    # 回溯部分\n",
    "    def backtrack(start: int, path: list):\n",
    "        if start == n:\n",
    "            res.append(path[:])\n",
    "            return\n",
    "        \n",
    "        for end in range(start + 1, n + 1):\n",
    "            if dp[start][end - 1]:\n",
    "                path.append(s[start:end])\n",
    "                backtrack(end, path)\n",
    "                path.pop()  # 回溯\n",
    "    \n",
    "    res = []\n",
    "    backtrack(0, [])\n",
    "    return res\n",
    "\n",
    "# 示例测试\n",
    "print(partition(\"aab\"))  # 输出: [[\"a\", \"a\", \"b\"], [\"aa\", \"b\"]]\n",
    "print(partition(\"a\"))    # 输出: [[\"a\"]]"
   ]
  }
 ],
 "metadata": {
  "kernelspec": {
   "display_name": "base",
   "language": "python",
   "name": "python3"
  },
  "language_info": {
   "codemirror_mode": {
    "name": "ipython",
    "version": 3
   },
   "file_extension": ".py",
   "mimetype": "text/x-python",
   "name": "python",
   "nbconvert_exporter": "python",
   "pygments_lexer": "ipython3",
   "version": "3.9.13"
  }
 },
 "nbformat": 4,
 "nbformat_minor": 2
}
