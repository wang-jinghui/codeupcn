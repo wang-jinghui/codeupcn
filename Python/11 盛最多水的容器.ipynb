{
 "cells": [
  {
   "cell_type": "markdown",
   "metadata": {},
   "source": [
    "### 题目描述\n",
    "\n",
    "给定一个长度为 n 的整数数组 height 。有 n 条垂线，第 i 条线的两个端点是 (i, 0) 和 (i, height[i]) 。\n",
    "\n",
    "找出其中的两条线，使得它们与 x 轴共同构成的容器可以容纳最多的水。\n",
    "\n",
    "返回容器可以储存的最大水量。\n",
    "\n",
    "说明：你不能倾斜容器。\n",
    "\n",
    "示例 1：\n",
    "- 输入：height = [1,8,6,2,5,4,8,3,7]\n",
    "- 输出：49\n",
    "解释：图中垂直线代表输入数组 [1,8,6,2,5,4,8,3,7]。在此情况下，容器能够容纳水（表示为蓝色部分）的最大值为 49。\n",
    "两条垂线分别是：height[1] = 8、height[7] = 7。\n",
    "\n",
    "示例 2：\n",
    "- 输入：height = [4,3,2,1,4]\n",
    "- 输出：16\n",
    "\n",
    "示例 3：\n",
    "- 输入：height = [1,2,1]\n",
    "- 输出：2\n",
    "\n",
    "提示：\n",
    "- n == height.length\n",
    "- 2 <= n <= 10^5\n",
    "- 0 <= height[i] <= 10^4"
   ]
  },
  {
   "cell_type": "markdown",
   "metadata": {},
   "source": [
    "解题思路1：\n",
    "1. **初始化指针**：在数组的两端各放置一个指针，一个指向数组的起始位置（left），另一个指向数组的末尾位置（right）。\n",
    "2. **计算面积**：计算当前两个指针所指向的线段与x轴构成的容器的面积。面积的计算公式为 `min(height[left], height[right]) * (right - left)`。\n",
    "3. **移动指针**：为了寻找可能更大的容器，需要移动较短的那条线段对应的指针。如果 `height[left] < height[right]`，则移动左指针向右；否则，移动右指针向左。\n",
    "4. **更新最大面积**：在每次移动指针后，重新计算面积，并更新最大面积。\n",
    "5. **重复步骤**：重复上述步骤，直到两个指针相遇。\n",
    "\n",
    "这种方法的时间复杂度为 O(n)，因为每个指针最多只会遍历数组一次。"
   ]
  },
  {
   "cell_type": "code",
   "execution_count": 1,
   "metadata": {},
   "outputs": [],
   "source": [
    "def maxArea(height: list[int]) -> int:\n",
    "    left, right = 0, len(height) - 1\n",
    "    max_area = 0\n",
    "    while left < right:\n",
    "        # 计算当前面积，并更新最大面积\n",
    "        area = min(height[left], height[right]) * (right - left)\n",
    "        # 更新最大面积\n",
    "        max_area = max(max_area, area)\n",
    "        # 更新指针\n",
    "        if height[left] < height[right]:\n",
    "            left += 1\n",
    "        else:\n",
    "            right -= 1\n",
    "    return max_area"
   ]
  }
 ],
 "metadata": {
  "kernelspec": {
   "display_name": "base",
   "language": "python",
   "name": "python3"
  },
  "language_info": {
   "codemirror_mode": {
    "name": "ipython",
    "version": 3
   },
   "file_extension": ".py",
   "mimetype": "text/x-python",
   "name": "python",
   "nbconvert_exporter": "python",
   "pygments_lexer": "ipython3",
   "version": "3.9.13"
  }
 },
 "nbformat": 4,
 "nbformat_minor": 2
}
